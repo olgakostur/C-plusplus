{
 "cells": [
  {
   "cell_type": "code",
   "execution_count": 1,
   "id": "8f6cbdb6",
   "metadata": {},
   "outputs": [],
   "source": [
    "import numpy as np\n",
    "\n",
    "# Creating matrices to compare with the outputs from C++ Jacobi and Gaussian Elimination \n",
    "\n",
    "\n",
    "# First validation matrix from lecture 5, only 4 x 4 with corresponding vector\n",
    "a1 = np.array([[10., 2., 3., 5.],\n",
    "              [1., 14., 6., 2.],\n",
    "              [-1., 4., 16., -4],\n",
    "              [5., 4., 3., 11.]])\n",
    "\n",
    "b1 = np.array([1., 2., 3., 4.])\n",
    "\n"
   ]
  },
  {
   "cell_type": "code",
   "execution_count": 6,
   "id": "7ad71995",
   "metadata": {},
   "outputs": [],
   "source": [
    "# Second validation matrix with size of 10 x 10\n",
    "\n",
    "a2 = np.array([[10., 2., 3., 5., 7., 12., 20., 21., 3.,1.],\n",
    "              [1.,9., 3., 12., 20., 21., 19., 56., 19.,34.],\n",
    "              [-1.,9., 3., 12., 10., 31., 49., 36., 29.,34.],\n",
    "              [7., -5., 3., 4., 1.,9., 3., 12., 2., 21.],\n",
    "              [0., 56., 3., 5., 1.,9., 3., 12., 14., 21.],\n",
    "              [90., 78., 3., 55., 1.,7., 3., 12., 8., 21.],\n",
    "              [0., 4., 3., 6., 1.,9., 3., 12., 90., 21.],\n",
    "              [1., 9., 3., 8., 1.,9., 3., 12., 4., 21.],\n",
    "              [8., -4., 3., 78., 1.,8., 3., 12., 1., 33.],\n",
    "              [0., -4., 3., 5., 1.,9., 3., 66., 12., 21.]])\n",
    "\n",
    "b2= np.array ([1.,9., 3., 1., 2., 21., 9., 6., 19.,4.])"
   ]
  },
  {
   "cell_type": "code",
   "execution_count": 8,
   "id": "bbb60937",
   "metadata": {},
   "outputs": [],
   "source": [
    "# Third validation matrix of 10 x 10\n",
    "\n",
    "a3 = np.array([[10., 2., 3., 5., 7., 12., 20., 21., 3.,1.],\n",
    "              [1.,9., 3., 12., 20., 21., 19., 56., 19.,34.],\n",
    "              [-1.,9., 3., 12., 10., 31., 49., 36., 29.,34.],\n",
    "              [7., -5., 3., 4., 1.,9., 3., 45., 2., 7.],\n",
    "              [0., 56., 3., 5., 1.,9., 3., 12., 14., 21.],\n",
    "              [90., 78., 3., 55., 1.,7., 3., 6., 8., 88.],\n",
    "              [0., 4., 3., 6., 3.,9., 9., 12., 7., 21.],\n",
    "              [1., 9., 3., 8., 1.,9., 3., 12., 67., 1.],\n",
    "              [8., -4., 3., 78., 1.,8., 3., 12., 90., 33.],\n",
    "              [0., -8., 3., 5., 1.,9., 3., 5., 56., 21.]])\n",
    "\n",
    "b3= np.array ([1.,2., 3., 1., 7., 2., 9., 6., 9.,3.])"
   ]
  },
  {
   "cell_type": "code",
   "execution_count": 12,
   "id": "6eb0a964",
   "metadata": {},
   "outputs": [],
   "source": [
    "# Fourth validation matrix of 15 x 15\n",
    "\n",
    "\n",
    "a4 =np.array([[10., 2., 3., 5., 7., 12., 20., 21., 3.,1., 3., 67., 9.,8.,78.],\n",
    "              [10., 2., 3., 5., 9., 56., 20., 21., 33.,12., 4., 67., 9.,9.,78.],\n",
    "              [34., 89., 3., 5., 7., 23., 20., 21., 33.,88., 33., 67., 9.,45.,78.],\n",
    "              [7., 7., 3., 5., 78., 12., 77., 88., 33.,1., 3., 67., 9.,8.,56.],\n",
    "              [9., 2., 3., 5., 7., 88., 20., 99., 3.,1., 3., 88., 9.,8.,87.],\n",
    "              [89., 6., 7., 13., 7., 99., 77., 21., 3.,1., 7., 67., 9.,8.,56.],\n",
    "              [90., 2., 3., 11., 13., 1., 456., 56., 3.,1., 3., 44., 789.,4.,8.],\n",
    "              [8., 2., 56., 9., 22., 3., 20., 21., 78.,67., 7., 67., 9.,8.,3.],\n",
    "              [9., 9., 67., 99., 88., 24., 6., 77., 99.,78., 3., 98., 78.,8.,31.],\n",
    "              [34., 2., 8., 5., 7., 12., 6., 21., 3.,11., 8., 67., 9.,987.,1.],\n",
    "              [8., 5., 8., 4., 8., 55., 4., 66., 3.,11., 9., 67., 9.,89.,1.],\n",
    "              [7., 2., 8., 5., 7., 67., 5., 678., 3.,12., 3., 7., 9.,8.,8.],\n",
    "              [21., 1., 8., 5., 8., 9., 5., 9., 3.,55., 9., 22., 9.,23.,6.],\n",
    "              [77., 8., 88., 9., 88., 1., 8., 9., 3.,123., 9., 22., 9.,1.,1.],\n",
    "              [9., 56., 8., 5., 8., 9., 8., 9., 3.,11., 9., 22., 9.,8.,1.]])\n",
    "\n",
    "b4= np.array ([1.,2., 3., 1., 7., 2., 9., 6., 9.,3., 7., 9., 12., 1., 7.])"
   ]
  },
  {
   "cell_type": "code",
   "execution_count": 13,
   "id": "f7bffb96",
   "metadata": {},
   "outputs": [],
   "source": [
    "# Fifth validation matrix 20 x 20\n",
    "\n",
    "\n",
    "a5= np.array([[10., 2., 3., 5., 7., 12., 20., 21., 3.,1., 1., 67., 7.,8.,78., 99., 67., 33., 45., 6.],\n",
    "              [10., 2., 3., 5., 9., 56., 20., 21., 33.,12., 4., 67., 3.,9.,78., 99., 67., 33., 45., 2.],\n",
    "              [34., 89., 3., 5., 7., 23., 20., 21., 33.,88., 33., 67., 9.,45.,78., 99., 67., 33., 45., 19.],\n",
    "              [7., 7., 3., 5., 78., 12., 77., 88., 33.,1., 3., 45., 9.,8.,56., 99., 67., 33., 45., 2.],\n",
    "              [9., 2., 3., 5., 7., 88., 20., 99., 3.,1., 3., 88., 9.,8.,87., 99., 67., 33., 45., 19.],\n",
    "              [89., 6., 7., 13., 7., 99., 6., 21., 3.,1., 7., 67., 9.,8.,56., 99., 67., 33., 45., 3.],\n",
    "              [90., 2., 3., 11., 13., 1., 456., 56., 3.,1., 3., 44., 789.,4.,8., 99., 67., 33., 45., 19.],\n",
    "              [8., 2., 56., 9., 6., 3., 20., 21., 78.,67., 7., 67., 9.,8.,3., 99., 67., 33., 45., 8.],\n",
    "              [9., 9., 67., 99., 77., 2., 6., 77., 99.,78., 3., 98., 99.,8.,31., 99., 67., 33., 45., 67.],\n",
    "              [34., 2., 8., 5., 7., 12., 6., 21., 3.,11., 8., 67., 9.,78.,1., 99., 67., 33., 45., 19.],\n",
    "              [6., 5., 8., 4., 8., 55., 9., 66., 3.,11., 9., 3., 9.,5.,1., 99., 67., 33., 45., 19.],\n",
    "              [7., 2., 8., 5., 7., 67., 9., 123., 3.,12., 3., 7., 9.,3.,8., 77., 67., 33., 45., 4.],\n",
    "              [21., 1., 8., 5., 8., 9., 5., 9., 3.,55., 9., 22., 9.,3.,6., 99., 67., 33., 45., 3.],\n",
    "              [1., 8., 88., 9., 88., 1., 8., 9., 3.,123., 9., 22., 9.,1.,1., 88., 67., 7., 45., 19.],\n",
    "              [1., 8., 11., 9., 7., 11., 65., 9., 3.,123., 88., 22., 9.,1.,1., 99., 67., 8., 45., 2.],\n",
    "              [1., 8., 4., 9., 4., 1., 8., 9., 3.,33., 5., 22., 9.,56.,1., 5., 67., 33., 45., 19.],\n",
    "              [1., 8., 7., 9., 8., 6., 89., 9., 3.,88., 10., 22., 89.,1.,1., 9., 67., 6., 45., 4.],\n",
    "              [1., 8., 0., 9., 9., 1., 98., 1., 3.,6., 9., 22., 9.,1.,7., 99., 67., 33., 45., 33.],\n",
    "              [1., 8., 5., 9., 8., 2., 8., 9., 3.,1., 8., 22., 9.,1.,1., 1., 67., 33., 45., 1.],\n",
    "              [1., 8., 6., 9., 1., 1., 8., 9., 3.,66., 9., 22., 9.,1.,1., 2., 67., 5., 1., 19.]])\n",
    "\n",
    "\n",
    "b5= np.array ([1.,2., 3., 1., 7., 2., 9., 6., 9.,3., 7., 9., 12., 1., 8., 89., 22., 56., 67.,1])\n"
   ]
  },
  {
   "cell_type": "code",
   "execution_count": 2,
   "id": "91b85166",
   "metadata": {},
   "outputs": [],
   "source": [
    "###### GAUSSIAN ELIMINATION ####\n",
    "\n",
    "import numpy as np\n",
    "\n",
    "\n",
    "def back_substitution(A, b):\n",
    "    \"\"\" Function to perform back subsitution on the system Ax=b.\n",
    "    \n",
    "    Returns the solution x.\n",
    "    \n",
    "    Assumes that A is on upper triangluar form.\n",
    "    \"\"\"\n",
    "    n = np.size(b)\n",
    "    # Check A is square and its number of rows and columns same as size of the vector b\n",
    "    rows, cols = np.shape(A)\n",
    "    assert(rows == cols)\n",
    "    assert(rows == n)\n",
    "\n",
    "    assert(np.allclose(A, np.triu(A)))\n",
    "    \n",
    "    x = np.zeros(n)\n",
    "    # start at the end (row n-1) and work backwards\n",
    "    for k in range(n-1, -1, -1):\n",
    "        s = 0.\n",
    "        for j in range(k+1, n):\n",
    "            s = s + A[k, j]*x[j]\n",
    "        x[k] = (b[k] - s)/A[k, k]\n",
    "\n",
    "    return x\n",
    "\n",
    "\n",
    "##### ROW SWAPPING #####\n",
    "\n",
    "# This function swaps rows in matrix A\n",
    "\n",
    "def swap_row(A, b, i, j):\n",
    "    \"\"\" Swap rows i and j of the matrix A and the vector b.\n",
    "    \"\"\" \n",
    "    if i == j:\n",
    "        return\n",
    "    print('swapping rows', i,'and', j)\n",
    "\n",
    "    iA = np.copy(A[i, :])\n",
    "    ib = np.copy(b[i])\n",
    "\n",
    "    A[i, :] = A[j, :]\n",
    "    b[i] = b[j]\n",
    "\n",
    "    A[j, :] = iA\n",
    "    b[j] = ib\n",
    "\n",
    "    \n",
    "# This is a new version of the upper_triangular function\n",
    "# with the added step of swapping rows so the largest\n",
    "# magnitude number is always our pivot: Uppertriangle with partial pivoting\n",
    "\n",
    "\n",
    "def upper_triangle_pp(A, b):\n",
    "    \"\"\" A function to covert A into upper triangluar form through row operations.\n",
    "    The same row operations are performed on the vector b.\n",
    "    \n",
    "    This version uses partial pivoting.\n",
    "    \n",
    "    Note that A and b are overwritten, and hence we do not need to return anything\n",
    "    from the function.\n",
    "    \"\"\"\n",
    "    n = np.size(b)\n",
    "    # check A is square and its number of rows and columns same as size of the vector b\n",
    "    rows, cols = np.shape(A)\n",
    "    assert(rows == cols)\n",
    "    assert(rows == n)\n",
    "\n",
    "    # Loop over each pivot row - all but the last row\n",
    "    for k in range(n-1):\n",
    "        # Swap rows so we are always dividing through by the largest number.\n",
    "        # initiatise kmax with the current pivot row (k)\n",
    "        kmax = k\n",
    "        # loop over all entries below the pivot and select the k with the largest abs value\n",
    "        for i in range(k+1, n):\n",
    "            if abs(A[kmax, k]) < abs(A[i, k]):\n",
    "                kmax = i\n",
    "        # and swap the current pivot row (k) with the row with the largest abs value below the pivot\n",
    "        swap_row(A, b, kmax, k)\n",
    "\n",
    "        for i in range(k+1, n):\n",
    "            s = (A[i, k]/A[k, k])\n",
    "            for j in range(k, n):\n",
    "                A[i, j] = A[i, j] - s*A[k, j]\n",
    "            b[i] = b[i] - s*b[k]\n",
    "\n",
    "\n",
    "## Putting things together - a Gaussian elimination function\n",
    "\n",
    "def gaussian_elimination(A,b):\n",
    "    Acopy = A.copy()\n",
    "    bcopy = b.copy()\n",
    "    upper_triangle_pp(Acopy,bcopy)\n",
    "    x = back_substitution(Acopy, bcopy)\n",
    "    return x  "
   ]
  },
  {
   "cell_type": "code",
   "execution_count": 4,
   "id": "b53cebc3",
   "metadata": {},
   "outputs": [
    {
     "name": "stdout",
     "output_type": "stream",
     "text": [
      "[-0.16340816 -0.01532706  0.27335264  0.36893555]\n"
     ]
    }
   ],
   "source": [
    "print(gaussian_elimination(a1, b1));"
   ]
  },
  {
   "cell_type": "code",
   "execution_count": 7,
   "id": "a15ac62e",
   "metadata": {},
   "outputs": [
    {
     "name": "stdout",
     "output_type": "stream",
     "text": [
      "swapping rows 5 and 0\n",
      "swapping rows 4 and 1\n",
      "swapping rows 3 and 2\n",
      "swapping rows 8 and 3\n",
      "swapping rows 8 and 5\n",
      "swapping rows 8 and 6\n",
      "swapping rows 9 and 7\n",
      "[-3.13309859e-02 -1.97912745e-02 -2.02378003e+01  1.24115655e+00\n",
      " -3.00793341e+00  1.97146169e+01 -7.78544868e+00  1.73516527e-02\n",
      "  6.22328575e-02 -4.50146775e+00]\n"
     ]
    }
   ],
   "source": [
    "print(gaussian_elimination(a2, b2));"
   ]
  },
  {
   "cell_type": "code",
   "execution_count": 9,
   "id": "50eb7ec1",
   "metadata": {},
   "outputs": [
    {
     "name": "stdout",
     "output_type": "stream",
     "text": [
      "swapping rows 5 and 0\n",
      "swapping rows 4 and 1\n",
      "swapping rows 9 and 2\n",
      "swapping rows 8 and 3\n",
      "swapping rows 9 and 5\n",
      "swapping rows 9 and 6\n",
      "swapping rows 8 and 7\n",
      "[ -2.1968696    1.41994769  23.68692528  -2.9573043    0.07878477\n",
      " -41.79348227  16.62289358   5.67506145   3.01433529   4.14767232]\n"
     ]
    }
   ],
   "source": [
    "print(gaussian_elimination(a3, b3));"
   ]
  },
  {
   "cell_type": "code",
   "execution_count": 14,
   "id": "70dfc698",
   "metadata": {},
   "outputs": [
    {
     "name": "stdout",
     "output_type": "stream",
     "text": [
      "swapping rows 6 and 0\n",
      "swapping rows 2 and 1\n",
      "swapping rows 13 and 2\n",
      "swapping rows 8 and 3\n",
      "swapping rows 8 and 4\n",
      "swapping rows 8 and 6\n",
      "swapping rows 11 and 7\n",
      "swapping rows 11 and 8\n",
      "swapping rows 14 and 9\n",
      "swapping rows 14 and 11\n",
      "swapping rows 13 and 12\n",
      "swapping rows 14 and 13\n",
      "[ 0.23493798  0.4132509  -0.79099003 -0.17466644 -0.07114405 -0.05226559\n",
      " -0.07653854  0.02756424 -0.00369796  0.59833078 -3.01465712  0.50672302\n",
      "  0.0179628  -0.01406873 -0.28711904]\n"
     ]
    }
   ],
   "source": [
    "print(gaussian_elimination(a4, b4));"
   ]
  },
  {
   "cell_type": "code",
   "execution_count": 16,
   "id": "d910f458",
   "metadata": {},
   "outputs": [
    {
     "name": "stdout",
     "output_type": "stream",
     "text": [
      "swapping rows 6 and 0\n",
      "swapping rows 2 and 1\n",
      "swapping rows 13 and 2\n",
      "swapping rows 8 and 3\n",
      "swapping rows 8 and 4\n",
      "swapping rows 8 and 6\n",
      "swapping rows 11 and 7\n",
      "swapping rows 11 and 8\n",
      "swapping rows 14 and 9\n",
      "swapping rows 16 and 10\n",
      "swapping rows 14 and 11\n",
      "swapping rows 17 and 12\n",
      "swapping rows 17 and 15\n",
      "swapping rows 18 and 16\n",
      "swapping rows 19 and 18\n",
      "[-0.20942045 -0.3567139   0.54079042  0.39240228  0.00736219  0.27608573\n",
      "  0.57562693 -0.22761977 -0.53356221  0.35972351  0.30326985 -0.1322642\n",
      " -0.27697593  0.17167735  0.11732602 -0.76404473 -0.71688913  3.64519417\n",
      " -0.16072971  0.32549482]\n"
     ]
    }
   ],
   "source": [
    "print(gaussian_elimination(a5, b5));"
   ]
  },
  {
   "cell_type": "code",
   "execution_count": null,
   "id": "5dae0fc6",
   "metadata": {},
   "outputs": [],
   "source": []
  }
 ],
 "metadata": {
  "kernelspec": {
   "display_name": "Python 3 (ipykernel)",
   "language": "python",
   "name": "python3"
  },
  "language_info": {
   "codemirror_mode": {
    "name": "ipython",
    "version": 3
   },
   "file_extension": ".py",
   "mimetype": "text/x-python",
   "name": "python",
   "nbconvert_exporter": "python",
   "pygments_lexer": "ipython3",
   "version": "3.8.8"
  }
 },
 "nbformat": 4,
 "nbformat_minor": 5
}
